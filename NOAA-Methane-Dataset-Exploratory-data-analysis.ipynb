{
 "cells": [
  {
   "attachments": {},
   "cell_type": "markdown",
   "metadata": {
    "id": "TOvht7vqQGdR",
    "papermill": {
     "duration": 0.030335,
     "end_time": "2020-11-27T11:52:28.446538",
     "exception": false,
     "start_time": "2020-11-27T11:52:28.416203",
     "status": "completed"
    },
    "tags": []
   },
   "source": [
    "# NOAA Methane Dataset Exploratory data analysis in Python."
   ]
  },
  {
   "cell_type": "markdown",
   "metadata": {
    "id": "8hg00soETQ3z",
    "papermill": {
     "duration": 0.027462,
     "end_time": "2020-11-27T11:52:28.721524",
     "exception": false,
     "start_time": "2020-11-27T11:52:28.694062",
     "status": "completed"
    },
    "tags": []
   },
   "source": [
    "**What is Exploratory Data Analysis ?**\n",
    "\n",
    "Exploratory Data Analysis or (EDA) is understanding the data sets by summarizing their main characteristics often plotting them visually. This step is very important especially when we arrive at modeling the data in order to apply Machine learning. Plotting in EDA consists of Histograms, Box plot, Scatter plot and many more. It often takes much time to explore the data. Through the process of EDA, we can ask to define the problem statement or definition on our data set which is very important."
   ]
  },
  {
   "cell_type": "markdown",
   "metadata": {
    "id": "CQDO4JCqTThV",
    "papermill": {
     "duration": 0.027108,
     "end_time": "2020-11-27T11:52:28.885282",
     "exception": false,
     "start_time": "2020-11-27T11:52:28.858174",
     "status": "completed"
    },
    "tags": []
   },
   "source": [
    "\n",
    "\n",
    "---\n",
    "\n"
   ]
  },
  {
   "cell_type": "markdown",
   "metadata": {
    "id": "9eLMx1Ebwa92",
    "papermill": {
     "duration": 0.027148,
     "end_time": "2020-11-27T11:52:28.994036",
     "exception": false,
     "start_time": "2020-11-27T11:52:28.966888",
     "status": "completed"
    },
    "tags": []
   },
   "source": [
    "Below are the libraries that are used in order to perform EDA (Exploratory data analysis) in this tutorial."
   ]
  },
  {
   "cell_type": "code",
   "execution_count": 1,
   "metadata": {
    "execution": {
     "iopub.execute_input": "2020-11-27T11:52:29.055248Z",
     "iopub.status.busy": "2020-11-27T11:52:29.054583Z",
     "iopub.status.idle": "2020-11-27T11:52:30.054016Z",
     "shell.execute_reply": "2020-11-27T11:52:30.053317Z"
    },
    "id": "GGyDovL2QDLa",
    "papermill": {
     "duration": 1.032787,
     "end_time": "2020-11-27T11:52:30.054137",
     "exception": false,
     "start_time": "2020-11-27T11:52:29.021350",
     "status": "completed"
    },
    "tags": []
   },
   "outputs": [],
   "source": [
    "import pandas as pd\n",
    "import numpy as np\n",
    "import seaborn as sns                       #visualisation\n",
    "import matplotlib.pyplot as plt             #visualisation\n",
    "%matplotlib inline     \n",
    "sns.set(color_codes=True)"
   ]
  },
  {
   "cell_type": "markdown",
   "metadata": {
    "id": "Ye6eXuohTd5Q",
    "papermill": {
     "duration": 0.028147,
     "end_time": "2020-11-27T11:52:30.110492",
     "exception": false,
     "start_time": "2020-11-27T11:52:30.082345",
     "status": "completed"
    },
    "tags": []
   },
   "source": [
    "\n",
    "\n",
    "---\n",
    "\n"
   ]
  },
  {
   "cell_type": "markdown",
   "metadata": {
    "id": "8Y3Z2DbKTfJt",
    "papermill": {
     "duration": 0.027409,
     "end_time": "2020-11-27T11:52:30.165749",
     "exception": false,
     "start_time": "2020-11-27T11:52:30.138340",
     "status": "completed"
    },
    "tags": []
   },
   "source": [
    "## 2. Loading the data into the data frame."
   ]
  },
  {
   "cell_type": "markdown",
   "metadata": {
    "id": "ko5zGJFCySaz",
    "papermill": {
     "duration": 0.027623,
     "end_time": "2020-11-27T11:52:30.221200",
     "exception": false,
     "start_time": "2020-11-27T11:52:30.193577",
     "status": "completed"
    },
    "tags": []
   },
   "source": [
    "Loading the data into the pandas data frame is certainly one of the most important steps in EDA, as we can see that the value from the data set is comma-separated. So all we have to do is to just read the CSV into a data frame and pandas data frame does the job for us."
   ]
  },
  {
   "cell_type": "markdown",
   "metadata": {
    "id": "LgzUzD61IM8h",
    "papermill": {
     "duration": 0.027328,
     "end_time": "2020-11-27T11:52:30.276436",
     "exception": false,
     "start_time": "2020-11-27T11:52:30.249108",
     "status": "completed"
    },
    "tags": []
   },
   "source": [
    "To get or load the dataset into the notebook, all I did was one trivial step. In Google Colab at the left-hand side of the notebook, you will find a > (greater than symbol). When you click that you will find a tab with three options, you just have to select Files. Then you can easily upload your file with the help of the Upload option. No need to mount to the google drive or use any specific libraries just upload the data set and your job is done. One thing to remember in this step is that uploaded files will get deleted when this runtime is recycled. This is how I got the data set into the notebook."
   ]
  },
  {
   "cell_type": "code",
   "execution_count": 2,
   "metadata": {
    "execution": {
     "iopub.execute_input": "2020-11-27T11:52:30.341297Z",
     "iopub.status.busy": "2020-11-27T11:52:30.340585Z",
     "iopub.status.idle": "2020-11-27T11:52:30.408536Z",
     "shell.execute_reply": "2020-11-27T11:52:30.409040Z"
    },
    "id": "0oVZnezwQ159",
    "outputId": "f1e0fe18-8fa0-482a-e2b9-2ecd87d97d9d",
    "papermill": {
     "duration": 0.104836,
     "end_time": "2020-11-27T11:52:30.409177",
     "exception": false,
     "start_time": "2020-11-27T11:52:30.304341",
     "status": "completed"
    },
    "tags": []
   },
   "outputs": [
    {
     "data": {
      "text/html": [
       "<div>\n",
       "<style scoped>\n",
       "    .dataframe tbody tr th:only-of-type {\n",
       "        vertical-align: middle;\n",
       "    }\n",
       "\n",
       "    .dataframe tbody tr th {\n",
       "        vertical-align: top;\n",
       "    }\n",
       "\n",
       "    .dataframe thead th {\n",
       "        text-align: right;\n",
       "    }\n",
       "</style>\n",
       "<table border=\"1\" class=\"dataframe\">\n",
       "  <thead>\n",
       "    <tr style=\"text-align: right;\">\n",
       "      <th></th>\n",
       "      <th>year</th>\n",
       "      <th>month</th>\n",
       "      <th>decimal</th>\n",
       "      <th>average</th>\n",
       "      <th>average_unc</th>\n",
       "      <th>trend</th>\n",
       "      <th>trend_unc</th>\n",
       "    </tr>\n",
       "  </thead>\n",
       "  <tbody>\n",
       "    <tr>\n",
       "      <th>0</th>\n",
       "      <td>1983</td>\n",
       "      <td>7</td>\n",
       "      <td>1983.542</td>\n",
       "      <td>1625.93</td>\n",
       "      <td>2.10</td>\n",
       "      <td>1634.82</td>\n",
       "      <td>1.39</td>\n",
       "    </tr>\n",
       "    <tr>\n",
       "      <th>1</th>\n",
       "      <td>1983</td>\n",
       "      <td>8</td>\n",
       "      <td>1983.625</td>\n",
       "      <td>1628.07</td>\n",
       "      <td>2.69</td>\n",
       "      <td>1635.41</td>\n",
       "      <td>1.33</td>\n",
       "    </tr>\n",
       "    <tr>\n",
       "      <th>2</th>\n",
       "      <td>1983</td>\n",
       "      <td>9</td>\n",
       "      <td>1983.708</td>\n",
       "      <td>1638.41</td>\n",
       "      <td>2.33</td>\n",
       "      <td>1636.04</td>\n",
       "      <td>1.27</td>\n",
       "    </tr>\n",
       "    <tr>\n",
       "      <th>3</th>\n",
       "      <td>1983</td>\n",
       "      <td>10</td>\n",
       "      <td>1983.792</td>\n",
       "      <td>1644.74</td>\n",
       "      <td>1.59</td>\n",
       "      <td>1636.73</td>\n",
       "      <td>1.20</td>\n",
       "    </tr>\n",
       "    <tr>\n",
       "      <th>4</th>\n",
       "      <td>1983</td>\n",
       "      <td>11</td>\n",
       "      <td>1983.875</td>\n",
       "      <td>1642.57</td>\n",
       "      <td>0.78</td>\n",
       "      <td>1637.48</td>\n",
       "      <td>1.12</td>\n",
       "    </tr>\n",
       "  </tbody>\n",
       "</table>\n",
       "</div>"
      ],
      "text/plain": [
       "   year  month   decimal  average  average_unc    trend  trend_unc\n",
       "0  1983      7  1983.542  1625.93         2.10  1634.82       1.39\n",
       "1  1983      8  1983.625  1628.07         2.69  1635.41       1.33\n",
       "2  1983      9  1983.708  1638.41         2.33  1636.04       1.27\n",
       "3  1983     10  1983.792  1644.74         1.59  1636.73       1.20\n",
       "4  1983     11  1983.875  1642.57         0.78  1637.48       1.12"
      ]
     },
     "execution_count": 2,
     "metadata": {},
     "output_type": "execute_result"
    }
   ],
   "source": [
    "df = pd.read_csv(\"NOAA_Methane_Data.csv\")\n",
    "# To display the top 5 rows \n",
    "df.head(5)               "
   ]
  },
  {
   "cell_type": "code",
   "execution_count": 3,
   "metadata": {
    "execution": {
     "iopub.execute_input": "2020-11-27T11:52:30.487251Z",
     "iopub.status.busy": "2020-11-27T11:52:30.486184Z",
     "iopub.status.idle": "2020-11-27T11:52:30.490767Z",
     "shell.execute_reply": "2020-11-27T11:52:30.490289Z"
    },
    "id": "Fm-9dzdTRKpe",
    "outputId": "7892eaf7-0605-4b92-e139-cf0553041e51",
    "papermill": {
     "duration": 0.052534,
     "end_time": "2020-11-27T11:52:30.490899",
     "exception": false,
     "start_time": "2020-11-27T11:52:30.438365",
     "status": "completed"
    },
    "tags": []
   },
   "outputs": [
    {
     "data": {
      "text/html": [
       "<div>\n",
       "<style scoped>\n",
       "    .dataframe tbody tr th:only-of-type {\n",
       "        vertical-align: middle;\n",
       "    }\n",
       "\n",
       "    .dataframe tbody tr th {\n",
       "        vertical-align: top;\n",
       "    }\n",
       "\n",
       "    .dataframe thead th {\n",
       "        text-align: right;\n",
       "    }\n",
       "</style>\n",
       "<table border=\"1\" class=\"dataframe\">\n",
       "  <thead>\n",
       "    <tr style=\"text-align: right;\">\n",
       "      <th></th>\n",
       "      <th>year</th>\n",
       "      <th>month</th>\n",
       "      <th>decimal</th>\n",
       "      <th>average</th>\n",
       "      <th>average_unc</th>\n",
       "      <th>trend</th>\n",
       "      <th>trend_unc</th>\n",
       "    </tr>\n",
       "  </thead>\n",
       "  <tbody>\n",
       "    <tr>\n",
       "      <th>467</th>\n",
       "      <td>2022</td>\n",
       "      <td>6</td>\n",
       "      <td>2022.458</td>\n",
       "      <td>1905.55</td>\n",
       "      <td>-9.99</td>\n",
       "      <td>1911.98</td>\n",
       "      <td>-9.99</td>\n",
       "    </tr>\n",
       "    <tr>\n",
       "      <th>468</th>\n",
       "      <td>2022</td>\n",
       "      <td>7</td>\n",
       "      <td>2022.542</td>\n",
       "      <td>1904.70</td>\n",
       "      <td>-9.99</td>\n",
       "      <td>1913.06</td>\n",
       "      <td>-9.99</td>\n",
       "    </tr>\n",
       "    <tr>\n",
       "      <th>469</th>\n",
       "      <td>2022</td>\n",
       "      <td>8</td>\n",
       "      <td>2022.625</td>\n",
       "      <td>1909.01</td>\n",
       "      <td>-9.99</td>\n",
       "      <td>1914.09</td>\n",
       "      <td>-9.99</td>\n",
       "    </tr>\n",
       "    <tr>\n",
       "      <th>470</th>\n",
       "      <td>2022</td>\n",
       "      <td>9</td>\n",
       "      <td>2022.708</td>\n",
       "      <td>1915.77</td>\n",
       "      <td>-9.99</td>\n",
       "      <td>1915.04</td>\n",
       "      <td>-9.99</td>\n",
       "    </tr>\n",
       "    <tr>\n",
       "      <th>471</th>\n",
       "      <td>2022</td>\n",
       "      <td>10</td>\n",
       "      <td>2022.792</td>\n",
       "      <td>1920.34</td>\n",
       "      <td>-9.99</td>\n",
       "      <td>1915.92</td>\n",
       "      <td>-9.99</td>\n",
       "    </tr>\n",
       "  </tbody>\n",
       "</table>\n",
       "</div>"
      ],
      "text/plain": [
       "     year  month   decimal  average  average_unc    trend  trend_unc\n",
       "467  2022      6  2022.458  1905.55        -9.99  1911.98      -9.99\n",
       "468  2022      7  2022.542  1904.70        -9.99  1913.06      -9.99\n",
       "469  2022      8  2022.625  1909.01        -9.99  1914.09      -9.99\n",
       "470  2022      9  2022.708  1915.77        -9.99  1915.04      -9.99\n",
       "471  2022     10  2022.792  1920.34        -9.99  1915.92      -9.99"
      ]
     },
     "execution_count": 3,
     "metadata": {},
     "output_type": "execute_result"
    }
   ],
   "source": [
    "df.tail(5)                        # To display the botton 5 rows"
   ]
  },
  {
   "cell_type": "markdown",
   "metadata": {
    "id": "JjQnr4SPzaL5",
    "papermill": {
     "duration": 0.029003,
     "end_time": "2020-11-27T11:52:30.549371",
     "exception": false,
     "start_time": "2020-11-27T11:52:30.520368",
     "status": "completed"
    },
    "tags": []
   },
   "source": [
    "\n",
    "\n",
    "---\n",
    "\n"
   ]
  },
  {
   "cell_type": "markdown",
   "metadata": {
    "id": "vAmC369yTpMF",
    "papermill": {
     "duration": 0.029103,
     "end_time": "2020-11-27T11:52:30.608838",
     "exception": false,
     "start_time": "2020-11-27T11:52:30.579735",
     "status": "completed"
    },
    "tags": []
   },
   "source": [
    "## 3. Checking the types of data"
   ]
  },
  {
   "attachments": {},
   "cell_type": "markdown",
   "metadata": {
    "id": "9ESKxikIzA1d",
    "papermill": {
     "duration": 0.029261,
     "end_time": "2020-11-27T11:52:30.667608",
     "exception": false,
     "start_time": "2020-11-27T11:52:30.638347",
     "status": "completed"
    },
    "tags": []
   },
   "source": [
    "Here we check for the datatypes because sometimes the month could be stored as a string, if in that case, we have to convert that string to the integer data only then we can plot the data via a graph. Here, in this case, the year and month data is already represented in integer format."
   ]
  },
  {
   "cell_type": "code",
   "execution_count": 4,
   "metadata": {
    "execution": {
     "iopub.execute_input": "2020-11-27T11:52:30.734838Z",
     "iopub.status.busy": "2020-11-27T11:52:30.733833Z",
     "iopub.status.idle": "2020-11-27T11:52:30.737879Z",
     "shell.execute_reply": "2020-11-27T11:52:30.737377Z"
    },
    "id": "qPbKQ0noRptD",
    "outputId": "6a5aea47-ad0c-4118-8471-d91b6432b339",
    "papermill": {
     "duration": 0.040549,
     "end_time": "2020-11-27T11:52:30.738002",
     "exception": false,
     "start_time": "2020-11-27T11:52:30.697453",
     "status": "completed"
    },
    "tags": []
   },
   "outputs": [
    {
     "data": {
      "text/plain": [
       "year             int64\n",
       "month            int64\n",
       "decimal        float64\n",
       "average        float64\n",
       "average_unc    float64\n",
       "trend          float64\n",
       "trend_unc      float64\n",
       "dtype: object"
      ]
     },
     "execution_count": 4,
     "metadata": {},
     "output_type": "execute_result"
    }
   ],
   "source": [
    "df.dtypes"
   ]
  },
  {
   "cell_type": "markdown",
   "metadata": {
    "id": "beRJyQAezdX8",
    "papermill": {
     "duration": 0.029309,
     "end_time": "2020-11-27T11:52:30.797064",
     "exception": false,
     "start_time": "2020-11-27T11:52:30.767755",
     "status": "completed"
    },
    "tags": []
   },
   "source": [
    "\n",
    "\n",
    "---\n",
    "\n"
   ]
  },
  {
   "cell_type": "markdown",
   "metadata": {
    "id": "QoHuBhXxT5E9",
    "papermill": {
     "duration": 0.029086,
     "end_time": "2020-11-27T11:52:30.855758",
     "exception": false,
     "start_time": "2020-11-27T11:52:30.826672",
     "status": "completed"
    },
    "tags": []
   },
   "source": [
    "## 4. Dropping irrelevant columns"
   ]
  },
  {
   "attachments": {},
   "cell_type": "markdown",
   "metadata": {
    "id": "_3cy877Mze4H",
    "papermill": {
     "duration": 0.029217,
     "end_time": "2020-11-27T11:52:30.914753",
     "exception": false,
     "start_time": "2020-11-27T11:52:30.885536",
     "status": "completed"
    },
    "tags": []
   },
   "source": [
    "This step is certainly needed in every EDA because sometimes there would be many columns that we never use in such cases dropping is the only solution. In this case, the columns such as average_unc and trend_unc doesn't make any sense to me so I just dropped for this instance."
   ]
  },
  {
   "cell_type": "code",
   "execution_count": 6,
   "metadata": {
    "execution": {
     "iopub.execute_input": "2020-11-27T11:52:30.994216Z",
     "iopub.status.busy": "2020-11-27T11:52:30.993162Z",
     "iopub.status.idle": "2020-11-27T11:52:30.997526Z",
     "shell.execute_reply": "2020-11-27T11:52:30.997034Z"
    },
    "id": "uvSkK8swTr9H",
    "outputId": "1734f538-a4a1-45b9-d656-7ddc0124dc35",
    "papermill": {
     "duration": 0.053265,
     "end_time": "2020-11-27T11:52:30.997635",
     "exception": false,
     "start_time": "2020-11-27T11:52:30.944370",
     "status": "completed"
    },
    "tags": []
   },
   "outputs": [
    {
     "data": {
      "text/html": [
       "<div>\n",
       "<style scoped>\n",
       "    .dataframe tbody tr th:only-of-type {\n",
       "        vertical-align: middle;\n",
       "    }\n",
       "\n",
       "    .dataframe tbody tr th {\n",
       "        vertical-align: top;\n",
       "    }\n",
       "\n",
       "    .dataframe thead th {\n",
       "        text-align: right;\n",
       "    }\n",
       "</style>\n",
       "<table border=\"1\" class=\"dataframe\">\n",
       "  <thead>\n",
       "    <tr style=\"text-align: right;\">\n",
       "      <th></th>\n",
       "      <th>year</th>\n",
       "      <th>month</th>\n",
       "      <th>decimal</th>\n",
       "      <th>average</th>\n",
       "      <th>trend</th>\n",
       "    </tr>\n",
       "  </thead>\n",
       "  <tbody>\n",
       "    <tr>\n",
       "      <th>0</th>\n",
       "      <td>1983</td>\n",
       "      <td>7</td>\n",
       "      <td>1983.542</td>\n",
       "      <td>1625.93</td>\n",
       "      <td>1634.82</td>\n",
       "    </tr>\n",
       "    <tr>\n",
       "      <th>1</th>\n",
       "      <td>1983</td>\n",
       "      <td>8</td>\n",
       "      <td>1983.625</td>\n",
       "      <td>1628.07</td>\n",
       "      <td>1635.41</td>\n",
       "    </tr>\n",
       "    <tr>\n",
       "      <th>2</th>\n",
       "      <td>1983</td>\n",
       "      <td>9</td>\n",
       "      <td>1983.708</td>\n",
       "      <td>1638.41</td>\n",
       "      <td>1636.04</td>\n",
       "    </tr>\n",
       "    <tr>\n",
       "      <th>3</th>\n",
       "      <td>1983</td>\n",
       "      <td>10</td>\n",
       "      <td>1983.792</td>\n",
       "      <td>1644.74</td>\n",
       "      <td>1636.73</td>\n",
       "    </tr>\n",
       "    <tr>\n",
       "      <th>4</th>\n",
       "      <td>1983</td>\n",
       "      <td>11</td>\n",
       "      <td>1983.875</td>\n",
       "      <td>1642.57</td>\n",
       "      <td>1637.48</td>\n",
       "    </tr>\n",
       "  </tbody>\n",
       "</table>\n",
       "</div>"
      ],
      "text/plain": [
       "   year  month   decimal  average    trend\n",
       "0  1983      7  1983.542  1625.93  1634.82\n",
       "1  1983      8  1983.625  1628.07  1635.41\n",
       "2  1983      9  1983.708  1638.41  1636.04\n",
       "3  1983     10  1983.792  1644.74  1636.73\n",
       "4  1983     11  1983.875  1642.57  1637.48"
      ]
     },
     "execution_count": 6,
     "metadata": {},
     "output_type": "execute_result"
    }
   ],
   "source": [
    "df = df.drop(['average_unc','trend_unc'], axis=1)\n",
    "df.head(5)"
   ]
  },
  {
   "cell_type": "markdown",
   "metadata": {
    "id": "20OeQBpWz89v",
    "papermill": {
     "duration": 0.029929,
     "end_time": "2020-11-27T11:52:31.057925",
     "exception": false,
     "start_time": "2020-11-27T11:52:31.027996",
     "status": "completed"
    },
    "tags": []
   },
   "source": [
    "\n",
    "\n",
    "---\n",
    "\n"
   ]
  },
  {
   "cell_type": "markdown",
   "metadata": {
    "id": "caAownWdUZso",
    "papermill": {
     "duration": 0.030223,
     "end_time": "2020-11-27T11:52:31.118132",
     "exception": false,
     "start_time": "2020-11-27T11:52:31.087909",
     "status": "completed"
    },
    "tags": []
   },
   "source": [
    "## 5. Renaming the columns"
   ]
  },
  {
   "attachments": {},
   "cell_type": "markdown",
   "metadata": {
    "id": "UABLiEcyz-2G",
    "papermill": {
     "duration": 0.030318,
     "end_time": "2020-11-27T11:52:31.178829",
     "exception": false,
     "start_time": "2020-11-27T11:52:31.148511",
     "status": "completed"
    },
    "tags": []
   },
   "source": [
    "In this instance, most of the column names are very confusing to read, but I didn]t change their column names. This is a good approach it improves the readability of the data set."
   ]
  },
  {
   "cell_type": "code",
   "execution_count": 7,
   "metadata": {
    "execution": {
     "iopub.execute_input": "2020-11-27T11:52:31.245798Z",
     "iopub.status.busy": "2020-11-27T11:52:31.245033Z",
     "iopub.status.idle": "2020-11-27T11:52:31.260466Z",
     "shell.execute_reply": "2020-11-27T11:52:31.259923Z"
    },
    "id": "1wHW41whURub",
    "outputId": "dec9b1b3-e344-4b33-92fd-6e9f4c03c878",
    "papermill": {
     "duration": 0.05128,
     "end_time": "2020-11-27T11:52:31.260584",
     "exception": false,
     "start_time": "2020-11-27T11:52:31.209304",
     "status": "completed"
    },
    "tags": []
   },
   "outputs": [
    {
     "data": {
      "text/html": [
       "<div>\n",
       "<style scoped>\n",
       "    .dataframe tbody tr th:only-of-type {\n",
       "        vertical-align: middle;\n",
       "    }\n",
       "\n",
       "    .dataframe tbody tr th {\n",
       "        vertical-align: top;\n",
       "    }\n",
       "\n",
       "    .dataframe thead th {\n",
       "        text-align: right;\n",
       "    }\n",
       "</style>\n",
       "<table border=\"1\" class=\"dataframe\">\n",
       "  <thead>\n",
       "    <tr style=\"text-align: right;\">\n",
       "      <th></th>\n",
       "      <th>year</th>\n",
       "      <th>month</th>\n",
       "      <th>decimal</th>\n",
       "      <th>average</th>\n",
       "      <th>trend</th>\n",
       "    </tr>\n",
       "  </thead>\n",
       "  <tbody>\n",
       "    <tr>\n",
       "      <th>0</th>\n",
       "      <td>1983</td>\n",
       "      <td>7</td>\n",
       "      <td>1983.542</td>\n",
       "      <td>1625.93</td>\n",
       "      <td>1634.82</td>\n",
       "    </tr>\n",
       "    <tr>\n",
       "      <th>1</th>\n",
       "      <td>1983</td>\n",
       "      <td>8</td>\n",
       "      <td>1983.625</td>\n",
       "      <td>1628.07</td>\n",
       "      <td>1635.41</td>\n",
       "    </tr>\n",
       "    <tr>\n",
       "      <th>2</th>\n",
       "      <td>1983</td>\n",
       "      <td>9</td>\n",
       "      <td>1983.708</td>\n",
       "      <td>1638.41</td>\n",
       "      <td>1636.04</td>\n",
       "    </tr>\n",
       "    <tr>\n",
       "      <th>3</th>\n",
       "      <td>1983</td>\n",
       "      <td>10</td>\n",
       "      <td>1983.792</td>\n",
       "      <td>1644.74</td>\n",
       "      <td>1636.73</td>\n",
       "    </tr>\n",
       "    <tr>\n",
       "      <th>4</th>\n",
       "      <td>1983</td>\n",
       "      <td>11</td>\n",
       "      <td>1983.875</td>\n",
       "      <td>1642.57</td>\n",
       "      <td>1637.48</td>\n",
       "    </tr>\n",
       "  </tbody>\n",
       "</table>\n",
       "</div>"
      ],
      "text/plain": [
       "   year  month   decimal  average    trend\n",
       "0  1983      7  1983.542  1625.93  1634.82\n",
       "1  1983      8  1983.625  1628.07  1635.41\n",
       "2  1983      9  1983.708  1638.41  1636.04\n",
       "3  1983     10  1983.792  1644.74  1636.73\n",
       "4  1983     11  1983.875  1642.57  1637.48"
      ]
     },
     "execution_count": 7,
     "metadata": {},
     "output_type": "execute_result"
    }
   ],
   "source": [
    "#df = df.rename(columns={\"year\": \"column_1\", \"month\": \"column_2\", \"decimal\": \"column_3\"})\n",
    "df.head(5)"
   ]
  },
  {
   "cell_type": "markdown",
   "metadata": {
    "id": "5tcGiOmV0afN",
    "papermill": {
     "duration": 0.030645,
     "end_time": "2020-11-27T11:52:31.323355",
     "exception": false,
     "start_time": "2020-11-27T11:52:31.292710",
     "status": "completed"
    },
    "tags": []
   },
   "source": [
    "\n",
    "\n",
    "---\n",
    "\n"
   ]
  },
  {
   "cell_type": "markdown",
   "metadata": {
    "id": "uiW7x_O4WIDX",
    "papermill": {
     "duration": 0.030638,
     "end_time": "2020-11-27T11:52:31.385353",
     "exception": false,
     "start_time": "2020-11-27T11:52:31.354715",
     "status": "completed"
    },
    "tags": []
   },
   "source": [
    "## 6. Dropping the duplicate rows"
   ]
  },
  {
   "attachments": {},
   "cell_type": "markdown",
   "metadata": {
    "id": "9LpR5NW70hXm",
    "papermill": {
     "duration": 0.030478,
     "end_time": "2020-11-27T11:52:31.446542",
     "exception": false,
     "start_time": "2020-11-27T11:52:31.416064",
     "status": "completed"
    },
    "tags": []
   },
   "source": [
    "This is often a handy thing to do in a huge data set."
   ]
  },
  {
   "cell_type": "code",
   "execution_count": 8,
   "metadata": {
    "execution": {
     "iopub.execute_input": "2020-11-27T11:52:31.512940Z",
     "iopub.status.busy": "2020-11-27T11:52:31.512151Z",
     "iopub.status.idle": "2020-11-27T11:52:31.516507Z",
     "shell.execute_reply": "2020-11-27T11:52:31.515912Z"
    },
    "id": "1nBN_BCDWSmv",
    "outputId": "9a070a7d-a4d4-45c7-cac8-acb2c4db0e72",
    "papermill": {
     "duration": 0.039307,
     "end_time": "2020-11-27T11:52:31.516612",
     "exception": false,
     "start_time": "2020-11-27T11:52:31.477305",
     "status": "completed"
    },
    "tags": []
   },
   "outputs": [
    {
     "data": {
      "text/plain": [
       "(472, 5)"
      ]
     },
     "execution_count": 8,
     "metadata": {},
     "output_type": "execute_result"
    }
   ],
   "source": [
    "df.shape"
   ]
  },
  {
   "cell_type": "code",
   "execution_count": 9,
   "metadata": {
    "execution": {
     "iopub.execute_input": "2020-11-27T11:52:31.587137Z",
     "iopub.status.busy": "2020-11-27T11:52:31.586114Z",
     "iopub.status.idle": "2020-11-27T11:52:31.602151Z",
     "shell.execute_reply": "2020-11-27T11:52:31.601648Z"
    },
    "id": "yB8t6o0wH7If",
    "outputId": "d4778cd1-5372-4e27-db62-20635493786e",
    "papermill": {
     "duration": 0.053706,
     "end_time": "2020-11-27T11:52:31.602271",
     "exception": false,
     "start_time": "2020-11-27T11:52:31.548565",
     "status": "completed"
    },
    "tags": []
   },
   "outputs": [
    {
     "name": "stdout",
     "output_type": "stream",
     "text": [
      "number of duplicate rows:  (0, 5)\n"
     ]
    }
   ],
   "source": [
    "duplicate_rows_df = df[df.duplicated()]\n",
    "print(\"number of duplicate rows: \", duplicate_rows_df.shape)"
   ]
  },
  {
   "cell_type": "markdown",
   "metadata": {
    "id": "chhNvMFCIzqI",
    "papermill": {
     "duration": 0.031075,
     "end_time": "2020-11-27T11:52:31.664844",
     "exception": false,
     "start_time": "2020-11-27T11:52:31.633769",
     "status": "completed"
    },
    "tags": []
   },
   "source": [
    "Now let us remove the duplicate data because it's ok to remove them."
   ]
  },
  {
   "cell_type": "code",
   "execution_count": 10,
   "metadata": {
    "execution": {
     "iopub.execute_input": "2020-11-27T11:52:31.735456Z",
     "iopub.status.busy": "2020-11-27T11:52:31.734753Z",
     "iopub.status.idle": "2020-11-27T11:52:31.741387Z",
     "shell.execute_reply": "2020-11-27T11:52:31.740842Z"
    },
    "id": "kuobmetTV820",
    "outputId": "c6d6ce5c-6a38-4cd2-ee99-151124a1f84d",
    "papermill": {
     "duration": 0.045289,
     "end_time": "2020-11-27T11:52:31.741503",
     "exception": false,
     "start_time": "2020-11-27T11:52:31.696214",
     "status": "completed"
    },
    "tags": []
   },
   "outputs": [
    {
     "data": {
      "text/plain": [
       "year       472\n",
       "month      472\n",
       "decimal    472\n",
       "average    472\n",
       "trend      472\n",
       "dtype: int64"
      ]
     },
     "execution_count": 10,
     "metadata": {},
     "output_type": "execute_result"
    }
   ],
   "source": [
    "df.count()      # Used to count the number of rows"
   ]
  },
  {
   "cell_type": "code",
   "execution_count": 11,
   "metadata": {
    "execution": {
     "iopub.execute_input": "2020-11-27T11:52:31.876439Z",
     "iopub.status.busy": "2020-11-27T11:52:31.875501Z",
     "iopub.status.idle": "2020-11-27T11:52:31.896377Z",
     "shell.execute_reply": "2020-11-27T11:52:31.895850Z"
    },
    "id": "OiOsEF6WVTSj",
    "outputId": "a527c1a2-5d74-42bb-99e2-8112ebffb871",
    "papermill": {
     "duration": 0.058104,
     "end_time": "2020-11-27T11:52:31.896493",
     "exception": false,
     "start_time": "2020-11-27T11:52:31.838389",
     "status": "completed"
    },
    "tags": []
   },
   "outputs": [
    {
     "data": {
      "text/html": [
       "<div>\n",
       "<style scoped>\n",
       "    .dataframe tbody tr th:only-of-type {\n",
       "        vertical-align: middle;\n",
       "    }\n",
       "\n",
       "    .dataframe tbody tr th {\n",
       "        vertical-align: top;\n",
       "    }\n",
       "\n",
       "    .dataframe thead th {\n",
       "        text-align: right;\n",
       "    }\n",
       "</style>\n",
       "<table border=\"1\" class=\"dataframe\">\n",
       "  <thead>\n",
       "    <tr style=\"text-align: right;\">\n",
       "      <th></th>\n",
       "      <th>year</th>\n",
       "      <th>month</th>\n",
       "      <th>decimal</th>\n",
       "      <th>average</th>\n",
       "      <th>trend</th>\n",
       "    </tr>\n",
       "  </thead>\n",
       "  <tbody>\n",
       "    <tr>\n",
       "      <th>0</th>\n",
       "      <td>1983</td>\n",
       "      <td>7</td>\n",
       "      <td>1983.542</td>\n",
       "      <td>1625.93</td>\n",
       "      <td>1634.82</td>\n",
       "    </tr>\n",
       "    <tr>\n",
       "      <th>1</th>\n",
       "      <td>1983</td>\n",
       "      <td>8</td>\n",
       "      <td>1983.625</td>\n",
       "      <td>1628.07</td>\n",
       "      <td>1635.41</td>\n",
       "    </tr>\n",
       "    <tr>\n",
       "      <th>2</th>\n",
       "      <td>1983</td>\n",
       "      <td>9</td>\n",
       "      <td>1983.708</td>\n",
       "      <td>1638.41</td>\n",
       "      <td>1636.04</td>\n",
       "    </tr>\n",
       "    <tr>\n",
       "      <th>3</th>\n",
       "      <td>1983</td>\n",
       "      <td>10</td>\n",
       "      <td>1983.792</td>\n",
       "      <td>1644.74</td>\n",
       "      <td>1636.73</td>\n",
       "    </tr>\n",
       "    <tr>\n",
       "      <th>4</th>\n",
       "      <td>1983</td>\n",
       "      <td>11</td>\n",
       "      <td>1983.875</td>\n",
       "      <td>1642.57</td>\n",
       "      <td>1637.48</td>\n",
       "    </tr>\n",
       "  </tbody>\n",
       "</table>\n",
       "</div>"
      ],
      "text/plain": [
       "   year  month   decimal  average    trend\n",
       "0  1983      7  1983.542  1625.93  1634.82\n",
       "1  1983      8  1983.625  1628.07  1635.41\n",
       "2  1983      9  1983.708  1638.41  1636.04\n",
       "3  1983     10  1983.792  1644.74  1636.73\n",
       "4  1983     11  1983.875  1642.57  1637.48"
      ]
     },
     "execution_count": 11,
     "metadata": {},
     "output_type": "execute_result"
    }
   ],
   "source": [
    "df = df.drop_duplicates()\n",
    "df.head(5)"
   ]
  },
  {
   "cell_type": "code",
   "execution_count": 12,
   "metadata": {
    "execution": {
     "iopub.execute_input": "2020-11-27T11:52:31.968742Z",
     "iopub.status.busy": "2020-11-27T11:52:31.968146Z",
     "iopub.status.idle": "2020-11-27T11:52:31.974209Z",
     "shell.execute_reply": "2020-11-27T11:52:31.973613Z"
    },
    "id": "2gMM4lb0Vzor",
    "outputId": "f04e1803-e7de-4cbf-fdeb-8449a8051a07",
    "papermill": {
     "duration": 0.045247,
     "end_time": "2020-11-27T11:52:31.974315",
     "exception": false,
     "start_time": "2020-11-27T11:52:31.929068",
     "status": "completed"
    },
    "tags": []
   },
   "outputs": [
    {
     "data": {
      "text/plain": [
       "year       472\n",
       "month      472\n",
       "decimal    472\n",
       "average    472\n",
       "trend      472\n",
       "dtype: int64"
      ]
     },
     "execution_count": 12,
     "metadata": {},
     "output_type": "execute_result"
    }
   ],
   "source": [
    "df.count()"
   ]
  },
  {
   "cell_type": "markdown",
   "metadata": {
    "id": "zCLUdZOQ1PDP",
    "papermill": {
     "duration": 0.032655,
     "end_time": "2020-11-27T11:52:32.040143",
     "exception": false,
     "start_time": "2020-11-27T11:52:32.007488",
     "status": "completed"
    },
    "tags": []
   },
   "source": [
    "\n",
    "\n",
    "---\n",
    "\n"
   ]
  },
  {
   "cell_type": "markdown",
   "metadata": {
    "id": "JkXUQtyQW3Dy",
    "papermill": {
     "duration": 0.033049,
     "end_time": "2020-11-27T11:52:32.106118",
     "exception": false,
     "start_time": "2020-11-27T11:52:32.073069",
     "status": "completed"
    },
    "tags": []
   },
   "source": [
    "## 7. Dropping the missing or null values."
   ]
  },
  {
   "attachments": {},
   "cell_type": "markdown",
   "metadata": {
    "id": "K5pKvJi41YCp",
    "papermill": {
     "duration": 0.033171,
     "end_time": "2020-11-27T11:52:32.173467",
     "exception": false,
     "start_time": "2020-11-27T11:52:32.140296",
     "status": "completed"
    },
    "tags": []
   },
   "source": [
    "This is mostly similar to the previous step but in here all the missing values are detected and are dropped later. Now, this is not a good approach to do so, because many people just replace the missing values with the mean or the average of that column."
   ]
  },
  {
   "cell_type": "code",
   "execution_count": 13,
   "metadata": {
    "execution": {
     "iopub.execute_input": "2020-11-27T11:52:32.247260Z",
     "iopub.status.busy": "2020-11-27T11:52:32.246296Z",
     "iopub.status.idle": "2020-11-27T11:52:32.251941Z",
     "shell.execute_reply": "2020-11-27T11:52:32.251446Z"
    },
    "id": "Tzdlg-1OWjMz",
    "outputId": "7375ab6e-1473-4346-e5b5-0c61189cc716",
    "papermill": {
     "duration": 0.045703,
     "end_time": "2020-11-27T11:52:32.252054",
     "exception": false,
     "start_time": "2020-11-27T11:52:32.206351",
     "status": "completed"
    },
    "tags": []
   },
   "outputs": [
    {
     "name": "stdout",
     "output_type": "stream",
     "text": [
      "year       0\n",
      "month      0\n",
      "decimal    0\n",
      "average    0\n",
      "trend      0\n",
      "dtype: int64\n"
     ]
    }
   ],
   "source": [
    "print(df.isnull().sum())"
   ]
  },
  {
   "cell_type": "code",
   "execution_count": 14,
   "metadata": {
    "execution": {
     "iopub.execute_input": "2020-11-27T11:52:32.393563Z",
     "iopub.status.busy": "2020-11-27T11:52:32.392780Z",
     "iopub.status.idle": "2020-11-27T11:52:32.424245Z",
     "shell.execute_reply": "2020-11-27T11:52:32.423583Z"
    },
    "id": "KbbV0xHPWoad",
    "outputId": "17dda8ec-1282-4814-de79-8f5e1aff3a5f",
    "papermill": {
     "duration": 0.071586,
     "end_time": "2020-11-27T11:52:32.424366",
     "exception": false,
     "start_time": "2020-11-27T11:52:32.352780",
     "status": "completed"
    },
    "tags": []
   },
   "outputs": [
    {
     "data": {
      "text/plain": [
       "year       472\n",
       "month      472\n",
       "decimal    472\n",
       "average    472\n",
       "trend      472\n",
       "dtype: int64"
      ]
     },
     "execution_count": 14,
     "metadata": {},
     "output_type": "execute_result"
    }
   ],
   "source": [
    "df = df.dropna()    # Dropping the missing values.\n",
    "df.count()"
   ]
  },
  {
   "cell_type": "code",
   "execution_count": 15,
   "metadata": {
    "execution": {
     "iopub.execute_input": "2020-11-27T11:52:32.571710Z",
     "iopub.status.busy": "2020-11-27T11:52:32.571093Z",
     "iopub.status.idle": "2020-11-27T11:52:32.575569Z",
     "shell.execute_reply": "2020-11-27T11:52:32.576056Z"
    },
    "id": "V-DmX1O4Wtox",
    "outputId": "2d50fc20-3535-413b-e317-75a7f94fa2a2",
    "papermill": {
     "duration": 0.045646,
     "end_time": "2020-11-27T11:52:32.576197",
     "exception": false,
     "start_time": "2020-11-27T11:52:32.530551",
     "status": "completed"
    },
    "tags": []
   },
   "outputs": [
    {
     "name": "stdout",
     "output_type": "stream",
     "text": [
      "year       0\n",
      "month      0\n",
      "decimal    0\n",
      "average    0\n",
      "trend      0\n",
      "dtype: int64\n"
     ]
    }
   ],
   "source": [
    "print(df.isnull().sum())   # After dropping the values"
   ]
  },
  {
   "cell_type": "markdown",
   "metadata": {
    "id": "bk8RAHqQJVJK",
    "papermill": {
     "duration": 0.033656,
     "end_time": "2020-11-27T11:52:32.644093",
     "exception": false,
     "start_time": "2020-11-27T11:52:32.610437",
     "status": "completed"
    },
    "tags": []
   },
   "source": [
    "\n",
    "\n",
    "---\n",
    "\n"
   ]
  },
  {
   "cell_type": "markdown",
   "metadata": {
    "id": "8Py3sQc_ZxyU",
    "papermill": {
     "duration": 0.034018,
     "end_time": "2020-11-27T11:52:32.712147",
     "exception": false,
     "start_time": "2020-11-27T11:52:32.678129",
     "status": "completed"
    },
    "tags": []
   },
   "source": [
    "## 8. Detecting Outliers"
   ]
  },
  {
   "attachments": {},
   "cell_type": "markdown",
   "metadata": {
    "id": "1g6CJPofZzHN",
    "papermill": {
     "duration": 0.033631,
     "end_time": "2020-11-27T11:52:32.779927",
     "exception": false,
     "start_time": "2020-11-27T11:52:32.746296",
     "status": "completed"
    },
    "tags": []
   },
   "source": [
    "An outlier is a point or set of points that are different from other points. Sometimes they can be very high or very low. It's often a good idea to detect and remove the outliers. Because outliers are one of the primary reasons for resulting in a less accurate model. Hence it's a good idea to remove them. "
   ]
  },
  {
   "cell_type": "code",
   "execution_count": 17,
   "metadata": {
    "execution": {
     "iopub.execute_input": "2020-11-27T11:52:32.853465Z",
     "iopub.status.busy": "2020-11-27T11:52:32.852781Z",
     "iopub.status.idle": "2020-11-27T11:52:33.096979Z",
     "shell.execute_reply": "2020-11-27T11:52:33.096361Z"
    },
    "id": "vtxX_y6zZ2ri",
    "outputId": "e3f93522-9244-4c32-c34c-103e0834e93b",
    "papermill": {
     "duration": 0.283132,
     "end_time": "2020-11-27T11:52:33.097091",
     "exception": false,
     "start_time": "2020-11-27T11:52:32.813959",
     "status": "completed"
    },
    "tags": []
   },
   "outputs": [
    {
     "data": {
      "text/plain": [
       "<AxesSubplot:xlabel='decimal'>"
      ]
     },
     "execution_count": 17,
     "metadata": {},
     "output_type": "execute_result"
    },
    {
     "data": {
      "image/png": "[encoded data removed]",
      "text/plain": [
       "<Figure size 432x288 with 1 Axes>"
      ]
     },
     "metadata": {},
     "output_type": "display_data"
    }
   ],
   "source": [
    "sns.boxplot(x=df['decimal'])"
   ]
  },
  {
   "cell_type": "code",
   "execution_count": 18,
   "metadata": {
    "execution": {
     "iopub.execute_input": "2020-11-27T11:52:33.751510Z",
     "iopub.status.busy": "2020-11-27T11:52:33.750825Z",
     "iopub.status.idle": "2020-11-27T11:52:33.759278Z",
     "shell.execute_reply": "2020-11-27T11:52:33.758677Z"
    },
    "id": "cFG9hck7aHUx",
    "outputId": "7c09ff98-3725-4d56-9b97-ef6b43d0e17b",
    "papermill": {
     "duration": 0.051549,
     "end_time": "2020-11-27T11:52:33.759385",
     "exception": false,
     "start_time": "2020-11-27T11:52:33.707836",
     "status": "completed"
    },
    "tags": []
   },
   "outputs": [
    {
     "name": "stdout",
     "output_type": "stream",
     "text": [
      "year       19.25000\n",
      "month       5.25000\n",
      "decimal    19.62475\n",
      "average    74.77750\n",
      "trend      75.15250\n",
      "dtype: float64\n"
     ]
    }
   ],
   "source": [
    "Q1 = df.quantile(0.25)\n",
    "Q3 = df.quantile(0.75)\n",
    "IQR = Q3 - Q1\n",
    "print(IQR)"
   ]
  },
  {
   "cell_type": "markdown",
   "metadata": {
    "id": "kCv110_cJiDz",
    "papermill": {
     "duration": 0.036905,
     "end_time": "2020-11-27T11:52:33.833569",
     "exception": false,
     "start_time": "2020-11-27T11:52:33.796664",
     "status": "completed"
    },
    "tags": []
   },
   "source": [
    "Don't worry about the above values because it's not important to know each and every one of them because it's just important to know how to use this technique in order to remove the outliers."
   ]
  },
  {
   "cell_type": "code",
   "execution_count": 19,
   "metadata": {
    "execution": {
     "iopub.execute_input": "2020-11-27T11:52:33.917753Z",
     "iopub.status.busy": "2020-11-27T11:52:33.916141Z",
     "iopub.status.idle": "2020-11-27T11:52:33.940749Z",
     "shell.execute_reply": "2020-11-27T11:52:33.941224Z"
    },
    "id": "igh_mRXeaJrI",
    "outputId": "44660b71-2eb7-4387-c599-e527640a7c21",
    "papermill": {
     "duration": 0.07026,
     "end_time": "2020-11-27T11:52:33.941373",
     "exception": false,
     "start_time": "2020-11-27T11:52:33.871113",
     "status": "completed"
    },
    "tags": []
   },
   "outputs": [
    {
     "data": {
      "text/plain": [
       "(472, 5)"
      ]
     },
     "execution_count": 19,
     "metadata": {},
     "output_type": "execute_result"
    }
   ],
   "source": [
    "df = df[~((df < (Q1 - 1.5 * IQR)) |(df > (Q3 + 1.5 * IQR))).any(axis=1)]\n",
    "df.shape"
   ]
  },
  {
   "cell_type": "markdown",
   "metadata": {
    "id": "Z87kHbgvaQbb",
    "papermill": {
     "duration": 0.037301,
     "end_time": "2020-11-27T11:52:34.092399",
     "exception": false,
     "start_time": "2020-11-27T11:52:34.055098",
     "status": "completed"
    },
    "tags": []
   },
   "source": [
    "\n",
    "\n",
    "---\n",
    "\n"
   ]
  },
  {
   "cell_type": "markdown",
   "metadata": {
    "id": "WqFPRda8eEp_",
    "papermill": {
     "duration": 0.038833,
     "end_time": "2020-11-27T11:52:34.169033",
     "exception": false,
     "start_time": "2020-11-27T11:52:34.130200",
     "status": "completed"
    },
    "tags": []
   },
   "source": [
    "## 9. Plot different features against one another (scatter), against frequency (histogram)"
   ]
  },
  {
   "cell_type": "markdown",
   "metadata": {
    "id": "Z-W6Q9-hJosZ",
    "papermill": {
     "duration": 0.037659,
     "end_time": "2020-11-27T11:52:34.244690",
     "exception": false,
     "start_time": "2020-11-27T11:52:34.207031",
     "status": "completed"
    },
    "tags": []
   },
   "source": [
    "### Histogram\n",
    "\n",
    "Histogram refers to the frequency of occurrence of variables in an interval. In this case, there are mainly 10 different types of car manufacturing companies, but it is often important to know who has the most number of cars. To do this histogram is one of the trivial solutions which lets us know the total number of car manufactured by a different company."
   ]
  },
  {
   "cell_type": "code",
   "execution_count": 31,
   "metadata": {
    "execution": {
     "iopub.execute_input": "2020-11-27T11:52:34.328999Z",
     "iopub.status.busy": "2020-11-27T11:52:34.328053Z",
     "iopub.status.idle": "2020-11-27T11:52:34.926767Z",
     "shell.execute_reply": "2020-11-27T11:52:34.927629Z"
    },
    "id": "dAnd4DSyeHDb",
    "outputId": "44b04e39-9dc7-40fc-9ddb-b7182f4f6e1f",
    "papermill": {
     "duration": 0.645152,
     "end_time": "2020-11-27T11:52:34.927853",
     "exception": false,
     "start_time": "2020-11-27T11:52:34.282701",
     "status": "completed"
    },
    "tags": []
   },
   "outputs": [
    {
     "data": {
      "image/png": "[encoded data removed]",
      "text/plain": [
       "<Figure size 720x360 with 1 Axes>"
      ]
     },
     "metadata": {},
     "output_type": "display_data"
    }
   ],
   "source": [
    "df.month.value_counts().nlargest(100).plot(kind='bar', figsize=(10,5))\n",
    "plt.title(\"monthly methane count\")\n",
    "plt.ylabel('average')\n",
    "plt.xlabel('month');"
   ]
  },
  {
   "attachments": {},
   "cell_type": "markdown",
   "metadata": {
    "id": "c37WtYYWJuAQ",
    "papermill": {
     "duration": 0.04046,
     "end_time": "2020-11-27T11:52:35.081261",
     "exception": false,
     "start_time": "2020-11-27T11:52:35.040801",
     "status": "completed"
    },
    "tags": []
   },
   "source": [
    "### Heat Maps\n",
    "\n",
    "Heat Maps is a type of plot which is necessary when we need to find the dependent variables. One of the best way to find the relationship between the features can be done using heat maps. "
   ]
  },
  {
   "cell_type": "code",
   "execution_count": 21,
   "metadata": {
    "execution": {
     "iopub.execute_input": "2020-11-27T11:52:35.171817Z",
     "iopub.status.busy": "2020-11-27T11:52:35.170966Z",
     "iopub.status.idle": "2020-11-27T11:52:35.541204Z",
     "shell.execute_reply": "2020-11-27T11:52:35.540448Z"
    },
    "id": "yhHfLVTj6nmy",
    "outputId": "50a65ae0-841a-42ec-87e6-1a99da1ea57b",
    "papermill": {
     "duration": 0.419422,
     "end_time": "2020-11-27T11:52:35.541316",
     "exception": false,
     "start_time": "2020-11-27T11:52:35.121894",
     "status": "completed"
    },
    "tags": []
   },
   "outputs": [
    {
     "data": {
      "text/html": [
       "<div>\n",
       "<style scoped>\n",
       "    .dataframe tbody tr th:only-of-type {\n",
       "        vertical-align: middle;\n",
       "    }\n",
       "\n",
       "    .dataframe tbody tr th {\n",
       "        vertical-align: top;\n",
       "    }\n",
       "\n",
       "    .dataframe thead th {\n",
       "        text-align: right;\n",
       "    }\n",
       "</style>\n",
       "<table border=\"1\" class=\"dataframe\">\n",
       "  <thead>\n",
       "    <tr style=\"text-align: right;\">\n",
       "      <th></th>\n",
       "      <th>year</th>\n",
       "      <th>month</th>\n",
       "      <th>decimal</th>\n",
       "      <th>average</th>\n",
       "      <th>trend</th>\n",
       "    </tr>\n",
       "  </thead>\n",
       "  <tbody>\n",
       "    <tr>\n",
       "      <th>year</th>\n",
       "      <td>1.000000</td>\n",
       "      <td>-0.029642</td>\n",
       "      <td>0.999681</td>\n",
       "      <td>0.969936</td>\n",
       "      <td>0.972672</td>\n",
       "    </tr>\n",
       "    <tr>\n",
       "      <th>month</th>\n",
       "      <td>-0.029642</td>\n",
       "      <td>1.000000</td>\n",
       "      <td>-0.004385</td>\n",
       "      <td>0.006587</td>\n",
       "      <td>-0.005393</td>\n",
       "    </tr>\n",
       "    <tr>\n",
       "      <th>decimal</th>\n",
       "      <td>0.999681</td>\n",
       "      <td>-0.004385</td>\n",
       "      <td>1.000000</td>\n",
       "      <td>0.970519</td>\n",
       "      <td>0.972954</td>\n",
       "    </tr>\n",
       "    <tr>\n",
       "      <th>average</th>\n",
       "      <td>0.969936</td>\n",
       "      <td>0.006587</td>\n",
       "      <td>0.970519</td>\n",
       "      <td>1.000000</td>\n",
       "      <td>0.997474</td>\n",
       "    </tr>\n",
       "    <tr>\n",
       "      <th>trend</th>\n",
       "      <td>0.972672</td>\n",
       "      <td>-0.005393</td>\n",
       "      <td>0.972954</td>\n",
       "      <td>0.997474</td>\n",
       "      <td>1.000000</td>\n",
       "    </tr>\n",
       "  </tbody>\n",
       "</table>\n",
       "</div>"
      ],
      "text/plain": [
       "             year     month   decimal   average     trend\n",
       "year     1.000000 -0.029642  0.999681  0.969936  0.972672\n",
       "month   -0.029642  1.000000 -0.004385  0.006587 -0.005393\n",
       "decimal  0.999681 -0.004385  1.000000  0.970519  0.972954\n",
       "average  0.969936  0.006587  0.970519  1.000000  0.997474\n",
       "trend    0.972672 -0.005393  0.972954  0.997474  1.000000"
      ]
     },
     "execution_count": 21,
     "metadata": {},
     "output_type": "execute_result"
    },
    {
     "data": {
      "image/png": "[encoded data removed]",
      "text/plain": [
       "<Figure size 720x360 with 2 Axes>"
      ]
     },
     "metadata": {},
     "output_type": "display_data"
    }
   ],
   "source": [
    "plt.figure(figsize=(10,5))\n",
    "c= df.corr()\n",
    "sns.heatmap(c,cmap=\"BrBG\",annot=True)\n",
    "c"
   ]
  },
  {
   "cell_type": "markdown",
   "metadata": {
    "id": "1ROThOLQfRZw",
    "papermill": {
     "duration": 0.041995,
     "end_time": "2020-11-27T11:52:35.626197",
     "exception": false,
     "start_time": "2020-11-27T11:52:35.584202",
     "status": "completed"
    },
    "tags": []
   },
   "source": [
    "### Scatterplot\n",
    "\n",
    "We generally use scatter plots to find the correlation between two variables. Here the scatter plots are plotted between Horsepower and Price and we can see the plot below. With the plot given below, we can easily draw a trend line. These features provide a good scattering of points."
   ]
  },
  {
   "cell_type": "code",
   "execution_count": 33,
   "metadata": {
    "execution": {
     "iopub.execute_input": "2020-11-27T11:52:35.722504Z",
     "iopub.status.busy": "2020-11-27T11:52:35.718538Z",
     "iopub.status.idle": "2020-11-27T11:52:35.987456Z",
     "shell.execute_reply": "2020-11-27T11:52:35.986746Z"
    },
    "id": "2aOfHNFefSrX",
    "outputId": "4b5286f0-5419-48bc-d2de-476aeb36f022",
    "papermill": {
     "duration": 0.319087,
     "end_time": "2020-11-27T11:52:35.987616",
     "exception": false,
     "start_time": "2020-11-27T11:52:35.668529",
     "status": "completed"
    },
    "tags": []
   },
   "outputs": [
    {
     "data": {
      "image/png": "[encoded data removed]",
      "text/plain": [
       "<Figure size 720x432 with 1 Axes>"
      ]
     },
     "metadata": {},
     "output_type": "display_data"
    }
   ],
   "source": [
    "fig, ax = plt.subplots(figsize=(10,6))\n",
    "ax.scatter(df['year'], df['decimal'])\n",
    "ax.set_xlabel('year')\n",
    "ax.set_ylabel('decimal')\n",
    "plt.show()"
   ]
  },
  {
   "cell_type": "markdown",
   "metadata": {
    "id": "hQXy8o_gKFS5",
    "papermill": {
     "duration": 0.043811,
     "end_time": "2020-11-27T11:52:36.075327",
     "exception": false,
     "start_time": "2020-11-27T11:52:36.031516",
     "status": "completed"
    },
    "tags": []
   },
   "source": [
    "**Hence the above are some of the steps involved in Exploratory data analysis, these are some general steps that you must follow in order to perform EDA. There are many more yet to come but for now, this is more than enough idea as to how to perform a good EDA given any data sets. Stay tuned for more updates.**\n",
    "\n",
    "## Thank you."
   ]
  }
 ],
 "metadata": {
  "kernelspec": {
   "display_name": "base",
   "language": "python",
   "name": "python3"
  },
  "language_info": {
   "codemirror_mode": {
    "name": "ipython",
    "version": 3
   },
   "file_extension": ".py",
   "mimetype": "text/x-python",
   "name": "python",
   "nbconvert_exporter": "python",
   "pygments_lexer": "ipython3",
   "version": "3.8.8"
  },
  "papermill": {
   "duration": 12.885345,
   "end_time": "2020-11-27T11:52:37.154623",
   "environment_variables": {},
   "exception": null,
   "input_path": "__notebook__.ipynb",
   "output_path": "__notebook__.ipynb",
   "parameters": {},
   "start_time": "2020-11-27T11:52:24.269278",
   "version": "2.1.0"
  },
  "vscode": {
   "interpreter": {
    "hash": "4e74c270dde0821709a8f1e2e054af7f32e3de8c98aa7992adb716d61688d6a1"
   }
  }
 },
 "nbformat": 4,
 "nbformat_minor": 4
}
